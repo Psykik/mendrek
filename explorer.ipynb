{
 "cells": [
  {
   "cell_type": "code",
   "execution_count": 8,
   "metadata": {},
   "outputs": [],
   "source": [
    "import httpx\n",
    "import polars as pl\n",
    "from io import StringIO"
   ]
  },
  {
   "cell_type": "code",
   "execution_count": null,
   "metadata": {},
   "outputs": [],
   "source": [
    "#setup (should move to .env file or smth later)\n",
    "omdb_key = \"b8b9d254\"\n",
    "omdb_schema = {\"Title\": pl.String,\n",
    "               \"Year\": pl.String, #this is a scalar or range, need to improve parsing later | ex: (2013-, 2012, 1998-2001)\n",
    "               }"
   ]
  },
  {
   "cell_type": "code",
   "execution_count": null,
   "metadata": {},
   "outputs": [],
   "source": [
    "#load in example request\n",
    "title = \"Apothecary Diaries\"\n",
    "title.replace(\" \", \"+\") #add some function to do this later; easier to assume input title doesn't come in with \"+\"s\n",
    "request = httpx.get(f\"http://www.omdbapi.com/?t={title}&apikey={omdb_key}\")"
   ]
  },
  {
   "cell_type": "code",
   "execution_count": 6,
   "metadata": {},
   "outputs": [
    {
     "data": {
      "text/plain": [
       "'{\"Title\":\"The Apothecary Diaries\",\"Year\":\"2023–\",\"Rated\":\"TV-14\",\"Released\":\"21 Oct 2023\",\"Runtime\":\"N/A\",\"Genre\":\"Animation, Drama, History\",\"Director\":\"N/A\",\"Writer\":\"Natsu Hyûga\",\"Actors\":\"Aoi Yûki, Takeo Otsuka, Katsuyuki Konishi\",\"Plot\":\"A young maiden is kidnapped and sold into servitude at the emperor\\'s palace, where she secretly employs her pharmacist skills with the help of the head eunuch to unravel medical mysteries in the inner court.\",\"Language\":\"Japanese\",\"Country\":\"Japan\",\"Awards\":\"4 wins & 18 nominations total\",\"Poster\":\"https://m.media-amazon.com/images/M/MV5BNjAxMmFjZjgtYjM1ZS00NzdmLTliZDktZmIyMzU5YTBlNDBmXkEyXkFqcGc@._V1_SX300.jpg\",\"Ratings\":[{\"Source\":\"Internet Movie Database\",\"Value\":\"8.6/10\"}],\"Metascore\":\"N/A\",\"imdbRating\":\"8.6\",\"imdbVotes\":\"10,254\",\"imdbID\":\"tt26743760\",\"Type\":\"series\",\"totalSeasons\":\"2\",\"Response\":\"True\"}'"
      ]
     },
     "execution_count": 6,
     "metadata": {},
     "output_type": "execute_result"
    }
   ],
   "source": [
    "request.text"
   ]
  },
  {
   "cell_type": "code",
   "execution_count": 9,
   "metadata": {},
   "outputs": [
    {
     "data": {
      "text/html": [
       "<div><style>\n",
       ".dataframe > thead > tr,\n",
       ".dataframe > tbody > tr {\n",
       "  text-align: right;\n",
       "  white-space: pre-wrap;\n",
       "}\n",
       "</style>\n",
       "<small>shape: (1, 22)</small><table border=\"1\" class=\"dataframe\"><thead><tr><th>Title</th><th>Year</th><th>Rated</th><th>Released</th><th>Runtime</th><th>Genre</th><th>Director</th><th>Writer</th><th>Actors</th><th>Plot</th><th>Language</th><th>Country</th><th>Awards</th><th>Poster</th><th>Ratings</th><th>Metascore</th><th>imdbRating</th><th>imdbVotes</th><th>imdbID</th><th>Type</th><th>totalSeasons</th><th>Response</th></tr><tr><td>str</td><td>str</td><td>str</td><td>str</td><td>str</td><td>str</td><td>str</td><td>str</td><td>str</td><td>str</td><td>str</td><td>str</td><td>str</td><td>str</td><td>list[struct[2]]</td><td>str</td><td>str</td><td>str</td><td>str</td><td>str</td><td>str</td><td>str</td></tr></thead><tbody><tr><td>&quot;The Apothecary Diaries&quot;</td><td>&quot;2023–&quot;</td><td>&quot;TV-14&quot;</td><td>&quot;21 Oct 2023&quot;</td><td>&quot;N/A&quot;</td><td>&quot;Animation, Drama, History&quot;</td><td>&quot;N/A&quot;</td><td>&quot;Natsu Hyûga&quot;</td><td>&quot;Aoi Yûki, Takeo Otsuka, Katsuy…</td><td>&quot;A young maiden is kidnapped an…</td><td>&quot;Japanese&quot;</td><td>&quot;Japan&quot;</td><td>&quot;4 wins &amp; 18 nominations total&quot;</td><td>&quot;https://m.media-amazon.com/ima…</td><td>[{&quot;Internet Movie Database&quot;,&quot;8.6/10&quot;}]</td><td>&quot;N/A&quot;</td><td>&quot;8.6&quot;</td><td>&quot;10,254&quot;</td><td>&quot;tt26743760&quot;</td><td>&quot;series&quot;</td><td>&quot;2&quot;</td><td>&quot;True&quot;</td></tr></tbody></table></div>"
      ],
      "text/plain": [
       "shape: (1, 22)\n",
       "┌────────────────┬───────┬───────┬─────────────┬───┬────────────┬────────┬──────────────┬──────────┐\n",
       "│ Title          ┆ Year  ┆ Rated ┆ Released    ┆ … ┆ imdbID     ┆ Type   ┆ totalSeasons ┆ Response │\n",
       "│ ---            ┆ ---   ┆ ---   ┆ ---         ┆   ┆ ---        ┆ ---    ┆ ---          ┆ ---      │\n",
       "│ str            ┆ str   ┆ str   ┆ str         ┆   ┆ str        ┆ str    ┆ str          ┆ str      │\n",
       "╞════════════════╪═══════╪═══════╪═════════════╪═══╪════════════╪════════╪══════════════╪══════════╡\n",
       "│ The Apothecary ┆ 2023– ┆ TV-14 ┆ 21 Oct 2023 ┆ … ┆ tt26743760 ┆ series ┆ 2            ┆ True     │\n",
       "│ Diaries        ┆       ┆       ┆             ┆   ┆            ┆        ┆              ┆          │\n",
       "└────────────────┴───────┴───────┴─────────────┴───┴────────────┴────────┴──────────────┴──────────┘"
      ]
     },
     "execution_count": 9,
     "metadata": {},
     "output_type": "execute_result"
    }
   ],
   "source": [
    "df = pl.read_json(StringIO(request.text))\n",
    "df"
   ]
  },
  {
   "cell_type": "code",
   "execution_count": null,
   "metadata": {},
   "outputs": [],
   "source": []
  }
 ],
 "metadata": {
  "kernelspec": {
   "display_name": "ml_a4",
   "language": "python",
   "name": "python3"
  },
  "language_info": {
   "codemirror_mode": {
    "name": "ipython",
    "version": 3
   },
   "file_extension": ".py",
   "mimetype": "text/x-python",
   "name": "python",
   "nbconvert_exporter": "python",
   "pygments_lexer": "ipython3",
   "version": "3.11.11"
  }
 },
 "nbformat": 4,
 "nbformat_minor": 2
}
